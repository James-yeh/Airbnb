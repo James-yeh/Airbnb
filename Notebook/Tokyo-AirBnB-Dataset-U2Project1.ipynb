{
 "cells": [
  {
   "cell_type": "code",
   "execution_count": 1,
   "id": "charged-skiing",
   "metadata": {},
   "outputs": [],
   "source": [
    "import pandas as pd\n",
    "import numpy as np\n",
    "import matplotlib.pyplot as plt\n",
    "from category_encoders import OneHotEncoder, OrdinalEncoder\n",
    "from sklearn.ensemble import GradientBoostingRegressor\n",
    "from xgboost import XGBRegressor\n",
    "from sklearn.impute import SimpleImputer\n",
    "from sklearn.model_selection import train_test_split\n",
    "from sklearn.pipeline import make_pipeline\n",
    "from sklearn.model_selection import GridSearchCV, RandomizedSearchCV\n",
    "from sklearn.metrics import mean_absolute_error, mean_squared_error, r2_score\n",
    "from pdpbox.pdp import pdp_isolate, pdp_plot, pdp_interact, pdp_interact_plot\n",
    "from shap import TreeExplainer, initjs, force_plot\n",
    "from sklearn.linear_model import LinearRegression, Ridge\n",
    "from numpy.random import permutation\n",
    "from sklearn.inspection import permutation_importance\n",
    "from sklearn.ensemble import RandomForestRegressor\n",
    "from sklearn.tree import DecisionTreeRegressor\n",
    "import plotly.graph_objects as go\n",
    "import chart_studio"
   ]
  },
  {
   "cell_type": "code",
   "execution_count": 6,
   "id": "acoustic-reviewer",
   "metadata": {},
   "outputs": [],
   "source": [
    "DATA_PATH = './data/'"
   ]
  },
  {
   "cell_type": "code",
   "execution_count": 45,
   "id": "alternative-guest",
   "metadata": {},
   "outputs": [],
   "source": [
    "###DATA WRANGLING/EDA\n",
    "\n",
    "def wrangle(data):\n",
    "    df = pd.read_csv(data,\n",
    "                parse_dates=['last_scraped','host_since']\n",
    "               ).set_index('last_scraped')\n",
    "    \n",
    "    #Dropping columns with high similarity columns\n",
    "    df.drop(columns=['id','host_id','host_url','host_location',\n",
    "                    'host_about','host_response_rate','host_listings_count',\n",
    "                    'host_neighbourhood','host_total_listings_count',\n",
    "                    'calendar_last_scraped','calculated_host_listings_count',\n",
    "                    'calculated_host_listings_count_entire_homes',\n",
    "                    'calculated_host_listings_count_private_rooms',\n",
    "                    'calculated_host_listings_count_shared_rooms',\n",
    "                    'host_has_profile_pic','bathrooms','has_availability'], inplace=True)\n",
    "    \n",
    "    #Dropping columns about reviews and columns with low gini importance\n",
    "    df.drop(columns=['review_scores_accuracy','review_scores_cleanliness',\n",
    "                    'review_scores_checkin', 'review_scores_communication','review_scores_location',\n",
    "                    'review_scores_value','reviews_per_month','minimum_nights','maximum_nights',\n",
    "                    'availability_30','availability_60','availability_90',\n",
    "                    'availability_365','number_of_reviews_ltm','number_of_reviews_l30d','minimum_minimum_nights', 'maximum_minimum_nights',\n",
    "                    'minimum_maximum_nights', 'maximum_maximum_nights',\n",
    "                    'minimum_nights_avg_ntm', 'maximum_nights_avg_ntm', 'longitude', 'latitude','neighbourhood'], inplace=True)\n",
    "    \n",
    "    #Converted target as object into float\n",
    "    df['price']  = df['price'].str.strip('$')\n",
    "    df['price']  = df['price'].str.replace(',','').astype(float)\n",
    "    \n",
    "    #Dropped outliers\n",
    "    df = df.loc[df['price'] < 50000]\n",
    "    \n",
    "    #Setting review scores rating as a categorical feature\n",
    "    df['review_scores_rating'] = df['review_scores_rating'].fillna(0).round(-1).astype('int').astype('str')\n",
    "    df['review_scores_rating'] = np.where(df['number_of_reviews']==0, 'no past ratings', df['review_scores_rating'])\n",
    "    \n",
    "    #Making use of the 'amenities' column\n",
    "    items = ['Wireless Internet','Air conditioning', 'Kitchen', 'Heating','Family/kid friendly', 'Essentials', 'Hair dryer', 'Iron', \n",
    "                 'Smoke detector', 'Shampoo', 'Hangers', 'Hair dryer', 'Fire extinguisher', 'Laptop friendly workspace', 'First aid kit', 'Indoor fireplace',\n",
    "                 'TV','Cable TV', 'Elevator in building']\n",
    "    \n",
    "    #Dropped High Cardinality and single value columns\n",
    "    for item in items:\n",
    "         df[item]=np.where(df['amenities'].str.contains(item), 1, 0)\n",
    "    numcard = 50\n",
    "\n",
    "    highcard = [col for col in df.select_dtypes(exclude='number')\n",
    "            if df[col].nunique() > numcard]\n",
    "    lowcard = [col for col in df\n",
    "            if df[col].nunique() <= 1]           \n",
    "    df.drop(columns=highcard, inplace=True)\n",
    "    df.drop(columns=lowcard, inplace=True)\n",
    "    \n",
    "    \n",
    "    #Converted t and f object type into 1 and 0\n",
    "    df.replace('t',1, inplace=True)\n",
    "    df.replace('f',0, inplace=True)\n",
    "    \n",
    "    #Preprocessed NaN values\n",
    "    df['host_response_time'].fillna('within an hour',inplace=True)\n",
    "    df['bedrooms'].fillna(1,inplace=True)\n",
    "    \n",
    "    #Dropping rows with NA values\n",
    "    df = df.dropna(axis=0, subset=['bedrooms', 'beds'])\n",
    "  \n",
    "    \n",
    "    return df"
   ]
  },
  {
   "cell_type": "code",
   "execution_count": 46,
   "id": "linear-illinois",
   "metadata": {},
   "outputs": [],
   "source": [
    "df = wrangle(DATA_PATH+'listings.csv')\n",
    "\n"
   ]
  },
  {
   "cell_type": "code",
   "execution_count": 47,
   "id": "incident-photographer",
   "metadata": {},
   "outputs": [],
   "source": [
    "dfc = wrangle(DATA_PATH+'chicago.csv')"
   ]
  },
  {
   "cell_type": "code",
   "execution_count": 48,
   "id": "severe-termination",
   "metadata": {},
   "outputs": [],
   "source": [
    "dfc_ = pd.read_csv(DATA_PATH+'chicago.csv')"
   ]
  },
  {
   "cell_type": "code",
   "execution_count": 49,
   "id": "prospective-airplane",
   "metadata": {
    "scrolled": true
   },
   "outputs": [
    {
     "name": "stdout",
     "output_type": "stream",
     "text": [
      "<class 'pandas.core.frame.DataFrame'>\n",
      "RangeIndex: 6386 entries, 0 to 6385\n",
      "Data columns (total 74 columns):\n",
      " #   Column                                        Non-Null Count  Dtype  \n",
      "---  ------                                        --------------  -----  \n",
      " 0   id                                            6386 non-null   int64  \n",
      " 1   listing_url                                   6386 non-null   object \n",
      " 2   scrape_id                                     6386 non-null   int64  \n",
      " 3   last_scraped                                  6386 non-null   object \n",
      " 4   name                                          6386 non-null   object \n",
      " 5   description                                   6366 non-null   object \n",
      " 6   neighborhood_overview                         4652 non-null   object \n",
      " 7   picture_url                                   6386 non-null   object \n",
      " 8   host_id                                       6386 non-null   int64  \n",
      " 9   host_url                                      6386 non-null   object \n",
      " 10  host_name                                     6217 non-null   object \n",
      " 11  host_since                                    6217 non-null   object \n",
      " 12  host_location                                 6211 non-null   object \n",
      " 13  host_about                                    4300 non-null   object \n",
      " 14  host_response_time                            5038 non-null   object \n",
      " 15  host_response_rate                            5038 non-null   object \n",
      " 16  host_acceptance_rate                          5221 non-null   object \n",
      " 17  host_is_superhost                             6217 non-null   object \n",
      " 18  host_thumbnail_url                            6217 non-null   object \n",
      " 19  host_picture_url                              6217 non-null   object \n",
      " 20  host_neighbourhood                            5696 non-null   object \n",
      " 21  host_listings_count                           6217 non-null   float64\n",
      " 22  host_total_listings_count                     6217 non-null   float64\n",
      " 23  host_verifications                            6386 non-null   object \n",
      " 24  host_has_profile_pic                          6217 non-null   object \n",
      " 25  host_identity_verified                        6217 non-null   object \n",
      " 26  neighbourhood                                 4653 non-null   object \n",
      " 27  neighbourhood_cleansed                        6386 non-null   object \n",
      " 28  neighbourhood_group_cleansed                  0 non-null      float64\n",
      " 29  latitude                                      6386 non-null   float64\n",
      " 30  longitude                                     6386 non-null   float64\n",
      " 31  property_type                                 6386 non-null   object \n",
      " 32  room_type                                     6386 non-null   object \n",
      " 33  accommodates                                  6386 non-null   int64  \n",
      " 34  bathrooms                                     0 non-null      float64\n",
      " 35  bathrooms_text                                6381 non-null   object \n",
      " 36  bedrooms                                      5863 non-null   float64\n",
      " 37  beds                                          6275 non-null   float64\n",
      " 38  amenities                                     6386 non-null   object \n",
      " 39  price                                         6386 non-null   object \n",
      " 40  minimum_nights                                6386 non-null   int64  \n",
      " 41  maximum_nights                                6386 non-null   int64  \n",
      " 42  minimum_minimum_nights                        6386 non-null   int64  \n",
      " 43  maximum_minimum_nights                        6386 non-null   int64  \n",
      " 44  minimum_maximum_nights                        6386 non-null   int64  \n",
      " 45  maximum_maximum_nights                        6386 non-null   int64  \n",
      " 46  minimum_nights_avg_ntm                        6386 non-null   float64\n",
      " 47  maximum_nights_avg_ntm                        6386 non-null   float64\n",
      " 48  calendar_updated                              0 non-null      float64\n",
      " 49  has_availability                              6386 non-null   object \n",
      " 50  availability_30                               6386 non-null   int64  \n",
      " 51  availability_60                               6386 non-null   int64  \n",
      " 52  availability_90                               6386 non-null   int64  \n",
      " 53  availability_365                              6386 non-null   int64  \n",
      " 54  calendar_last_scraped                         6386 non-null   object \n",
      " 55  number_of_reviews                             6386 non-null   int64  \n",
      " 56  number_of_reviews_ltm                         6386 non-null   int64  \n",
      " 57  number_of_reviews_l30d                        6386 non-null   int64  \n",
      " 58  first_review                                  5168 non-null   object \n",
      " 59  last_review                                   5168 non-null   object \n",
      " 60  review_scores_rating                          5130 non-null   float64\n",
      " 61  review_scores_accuracy                        5105 non-null   float64\n",
      " 62  review_scores_cleanliness                     5105 non-null   float64\n",
      " 63  review_scores_checkin                         5104 non-null   float64\n",
      " 64  review_scores_communication                   5103 non-null   float64\n",
      " 65  review_scores_location                        5104 non-null   float64\n",
      " 66  review_scores_value                           5104 non-null   float64\n",
      " 67  license                                       6038 non-null   object \n",
      " 68  instant_bookable                              6386 non-null   object \n",
      " 69  calculated_host_listings_count                6386 non-null   int64  \n",
      " 70  calculated_host_listings_count_entire_homes   6386 non-null   int64  \n",
      " 71  calculated_host_listings_count_private_rooms  6386 non-null   int64  \n",
      " 72  calculated_host_listings_count_shared_rooms   6386 non-null   int64  \n",
      " 73  reviews_per_month                             5168 non-null   float64\n",
      "dtypes: float64(19), int64(21), object(34)\n",
      "memory usage: 3.6+ MB\n"
     ]
    }
   ],
   "source": [
    "dfc_.info()"
   ]
  },
  {
   "cell_type": "code",
   "execution_count": 50,
   "id": "fiscal-township",
   "metadata": {
    "scrolled": true
   },
   "outputs": [
    {
     "name": "stdout",
     "output_type": "stream",
     "text": [
      "<class 'pandas.core.frame.DataFrame'>\n",
      "DatetimeIndex: 6275 entries, 2021-04-22 to 2021-04-21\n",
      "Data columns (total 26 columns):\n",
      " #   Column                  Non-Null Count  Dtype  \n",
      "---  ------                  --------------  -----  \n",
      " 0   host_response_time      6275 non-null   object \n",
      " 1   host_is_superhost       6107 non-null   float64\n",
      " 2   host_identity_verified  6107 non-null   float64\n",
      " 3   property_type           6275 non-null   object \n",
      " 4   room_type               6275 non-null   object \n",
      " 5   accommodates            6275 non-null   int64  \n",
      " 6   bathrooms_text          6273 non-null   object \n",
      " 7   bedrooms                6275 non-null   float64\n",
      " 8   beds                    6275 non-null   float64\n",
      " 9   price                   6275 non-null   float64\n",
      " 10  number_of_reviews       6275 non-null   int64  \n",
      " 11  review_scores_rating    6275 non-null   object \n",
      " 12  instant_bookable        6275 non-null   int64  \n",
      " 13  Air conditioning        6275 non-null   int32  \n",
      " 14  Kitchen                 6275 non-null   int32  \n",
      " 15  Heating                 6275 non-null   int32  \n",
      " 16  Essentials              6275 non-null   int32  \n",
      " 17  Hair dryer              6275 non-null   int32  \n",
      " 18  Iron                    6275 non-null   int32  \n",
      " 19  Shampoo                 6275 non-null   int32  \n",
      " 20  Hangers                 6275 non-null   int32  \n",
      " 21  Fire extinguisher       6275 non-null   int32  \n",
      " 22  First aid kit           6275 non-null   int32  \n",
      " 23  Indoor fireplace        6275 non-null   int32  \n",
      " 24  TV                      6275 non-null   int32  \n",
      " 25  Cable TV                6275 non-null   int32  \n",
      "dtypes: float64(5), int32(13), int64(3), object(5)\n",
      "memory usage: 1005.0+ KB\n"
     ]
    }
   ],
   "source": [
    "dfc.info()"
   ]
  },
  {
   "cell_type": "code",
   "execution_count": 54,
   "id": "educated-fundamentals",
   "metadata": {},
   "outputs": [
    {
     "data": {
      "text/plain": [
       "Entire apartment                      2843\n",
       "Private room in apartment              694\n",
       "Entire condominium                     653\n",
       "Private room in house                  434\n",
       "Entire house                           380\n",
       "Private room in condominium            230\n",
       "Entire guest suite                     164\n",
       "Room in boutique hotel                 127\n",
       "Entire serviced apartment              120\n",
       "Entire loft                            117\n",
       "Entire townhouse                        92\n",
       "Private room in townhouse               62\n",
       "Private room in bungalow                42\n",
       "Entire guesthouse                       41\n",
       "Shared room in apartment                41\n",
       "Room in hotel                           32\n",
       "Private room in loft                    31\n",
       "Shared room in house                    22\n",
       "Private room in bed and breakfast       20\n",
       "Private room in guest suite             19\n",
       "Entire bungalow                         17\n",
       "Shared room in condominium              16\n",
       "Room in serviced apartment              13\n",
       "Room in bed and breakfast                9\n",
       "Private room in guesthouse               8\n",
       "Room in hostel                           5\n",
       "Boat                                     4\n",
       "Private room in cottage                  4\n",
       "Entire cottage                           4\n",
       "Private room in hostel                   3\n",
       "Private room in tiny house               3\n",
       "Shared room in hostel                    3\n",
       "Room in aparthotel                       3\n",
       "Tiny house                               3\n",
       "Private room                             2\n",
       "Private room in serviced apartment       2\n",
       "Shared room in cave                      1\n",
       "Entire home/apt                          1\n",
       "Private room in villa                    1\n",
       "Shared room                              1\n",
       "Entire villa                             1\n",
       "Campsite                                 1\n",
       "Shared room in serviced apartment        1\n",
       "Shared room in loft                      1\n",
       "Private room in cabin                    1\n",
       "Shared room in bungalow                  1\n",
       "Private room in farm stay                1\n",
       "Entire place                             1\n",
       "Name: property_type, dtype: int64"
      ]
     },
     "execution_count": 54,
     "metadata": {},
     "output_type": "execute_result"
    }
   ],
   "source": [
    "dfc['property_type'].value_counts()"
   ]
  },
  {
   "cell_type": "code",
   "execution_count": 28,
   "id": "smaller-tradition",
   "metadata": {
    "scrolled": true
   },
   "outputs": [
    {
     "name": "stdout",
     "output_type": "stream",
     "text": [
      "<class 'pandas.core.frame.DataFrame'>\n",
      "DatetimeIndex: 10889 entries, 2021-01-04 to 2021-01-01\n",
      "Data columns (total 27 columns):\n",
      " #   Column                  Non-Null Count  Dtype  \n",
      "---  ------                  --------------  -----  \n",
      " 0   host_response_time      10889 non-null  object \n",
      " 1   host_is_superhost       10873 non-null  float64\n",
      " 2   host_identity_verified  10873 non-null  float64\n",
      " 3   neighbourhood_cleansed  10889 non-null  object \n",
      " 4   latitude                10889 non-null  float64\n",
      " 5   room_type               10889 non-null  object \n",
      " 6   accommodates            10889 non-null  int64  \n",
      " 7   bathrooms_text          10876 non-null  object \n",
      " 8   bedrooms                10889 non-null  float64\n",
      " 9   beds                    10889 non-null  float64\n",
      " 10  price                   10889 non-null  float64\n",
      " 11  number_of_reviews       10889 non-null  int64  \n",
      " 12  review_scores_rating    10889 non-null  object \n",
      " 13  instant_bookable        10889 non-null  int64  \n",
      " 14  Air conditioning        10889 non-null  int32  \n",
      " 15  Kitchen                 10889 non-null  int32  \n",
      " 16  Heating                 10889 non-null  int32  \n",
      " 17  Essentials              10889 non-null  int32  \n",
      " 18  Hair dryer              10889 non-null  int32  \n",
      " 19  Iron                    10889 non-null  int32  \n",
      " 20  Shampoo                 10889 non-null  int32  \n",
      " 21  Hangers                 10889 non-null  int32  \n",
      " 22  Fire extinguisher       10889 non-null  int32  \n",
      " 23  First aid kit           10889 non-null  int32  \n",
      " 24  Indoor fireplace        10889 non-null  int32  \n",
      " 25  TV                      10889 non-null  int32  \n",
      " 26  Cable TV                10889 non-null  int32  \n",
      "dtypes: float64(6), int32(13), int64(3), object(5)\n",
      "memory usage: 1.8+ MB\n"
     ]
    }
   ],
   "source": [
    "df.info()"
   ]
  },
  {
   "cell_type": "code",
   "execution_count": 29,
   "id": "finite-vessel",
   "metadata": {},
   "outputs": [],
   "source": [
    "###SPLITTING DATA\n",
    "target = 'price'\n",
    "y = df[target]\n",
    "X = df.drop(columns=target)"
   ]
  },
  {
   "cell_type": "code",
   "execution_count": 30,
   "id": "welsh-dubai",
   "metadata": {},
   "outputs": [],
   "source": [
    "cutoff = '2021-01-04'\n",
    "mask = X.index < cutoff\n",
    "X_train, y_train = X.loc[mask], y.loc[mask]\n",
    "X_test, y_test = X.loc[~mask], y.loc[~mask]"
   ]
  },
  {
   "cell_type": "code",
   "execution_count": 31,
   "id": "rental-combination",
   "metadata": {},
   "outputs": [
    {
     "name": "stdout",
     "output_type": "stream",
     "text": [
      "Mean AirBnB Price: 10374.170921579851\n",
      "Baseline MAE: 6159.698199343448\n",
      "Baseline RMSE: 8320.812532933393\n"
     ]
    }
   ],
   "source": [
    "###ESTABLISHING BASELINE\n",
    "print('Mean AirBnB Price:', y_train.mean())\n",
    "y_pred = [y_train.mean()] * len(y_train)\n",
    "print('Baseline MAE:', mean_absolute_error(y_train, y_pred))\n",
    "print('Baseline RMSE:', mean_squared_error(y_train, y_pred, squared=False))"
   ]
  },
  {
   "cell_type": "code",
   "execution_count": 32,
   "id": "artistic-phase",
   "metadata": {},
   "outputs": [],
   "source": [
    "###BUILDING MODELS\n",
    "\n",
    "#Ridge Regressor\n",
    "\n",
    "model_rr = make_pipeline(\n",
    "    OneHotEncoder(),\n",
    "    SimpleImputer(),\n",
    "    Ridge(alpha=10)\n",
    ")\n",
    "\n",
    "model_rr.fit(X_train, y_train);    "
   ]
  },
  {
   "cell_type": "code",
   "execution_count": 33,
   "id": "antique-niagara",
   "metadata": {},
   "outputs": [],
   "source": [
    "#RandomForestRegressor model\n",
    "\n",
    "model_rf = make_pipeline(\n",
    "    OneHotEncoder(),\n",
    "    SimpleImputer(),\n",
    "    RandomForestRegressor(random_state=42)\n",
    ")\n",
    "\n",
    "model_rf.fit(X_train, y_train); "
   ]
  },
  {
   "cell_type": "code",
   "execution_count": 34,
   "id": "fresh-patrol",
   "metadata": {},
   "outputs": [
    {
     "name": "stdout",
     "output_type": "stream",
     "text": [
      "[07:54:19] WARNING: C:/Users/Administrator/workspace/xgboost-win64_release_1.3.0/src/learner.cc:541: \n",
      "Parameters: { verbose } might not be used.\n",
      "\n",
      "  This may not be accurate due to some parameters are only used in language bindings but\n",
      "  passed down to XGBoost core.  Or some parameters are not used but slip through this\n",
      "  verification. Please open an issue if you find above cases.\n",
      "\n",
      "\n"
     ]
    }
   ],
   "source": [
    "\n",
    "#XGboostRegressor model\n",
    "\n",
    "model_xgb = make_pipeline(\n",
    "    OneHotEncoder(),\n",
    "    SimpleImputer(),\n",
    "    XGBRegressor(random_state=42, \n",
    "                 n_jobs=-1,\n",
    "                 verbose=True)\n",
    ");\n",
    "\n",
    "\n",
    "model_xgb.fit(X_train, y_train);\n",
    "\n"
   ]
  },
  {
   "cell_type": "code",
   "execution_count": 35,
   "id": "given-floating",
   "metadata": {},
   "outputs": [
    {
     "name": "stdout",
     "output_type": "stream",
     "text": [
      "RIDGE REGRESSOR METRICS:\n",
      "Train MAE: 4602.435696509511\n",
      "Test MAE: 4501.80550619083\n",
      "Train RMSE: 6557.48605040941\n",
      "Test RMSE: 6241.4487584777835\n",
      "Training R^2: 0.3789261043845561\n",
      "Test R^2: 0.32879880382825555\n",
      "Training Accuracy: 0.3789261043845561\n",
      "Test Accuracy: 0.32879880382825555\n",
      "\n",
      "RF REGRESSOR METRICS:\n",
      "Train MAE: 1363.2761713322611\n",
      "Test MAE: 3845.0794363642394\n",
      "Train RMSE: 2187.7845181987095\n",
      "Test RMSE: 5798.00382980578\n",
      "Training R^2: 0.9308682398595485\n",
      "Test R^2: 0.42078620227055996\n",
      "Training Accuracy: 0.9308682398595485\n",
      "Test Accuracy: 0.42078620227055996\n",
      "\n",
      "XGBOOST METRICS:\n",
      "Train MAE: 2641.825481262382\n",
      "Test MAE: 4074.073767227272\n",
      "Train RMSE: 3899.7179910243995\n",
      "Test RMSE: 6007.468312194451\n",
      "Training R^2: 0.7803481177959176\n",
      "Test R^2: 0.37817972218242446\n",
      "Training Accuracy: 0.7803481177959176\n",
      "Test Accuracy: 0.37817972218242446\n"
     ]
    }
   ],
   "source": [
    "###CHECKING METRICS\n",
    "\n",
    "#Ridge model metrics\n",
    "y_pred_train_rr = model_rr.predict(X_train)\n",
    "y_pred_test_rr = model_rr.predict(X_test)\n",
    "train_MAE_rr = mean_absolute_error(y_train, y_pred_train_rr)\n",
    "test_MAE_rr = mean_absolute_error(y_test, y_pred_test_rr)\n",
    "train_RMSE_rr = mean_squared_error(y_train, y_pred_train_rr, squared=False)\n",
    "test_RMSE_rr = mean_squared_error(y_test, y_pred_test_rr, squared=False)\n",
    "\n",
    "print('RIDGE REGRESSOR METRICS:')\n",
    "print('Train MAE:',train_MAE_rr)\n",
    "print('Test MAE:', test_MAE_rr)\n",
    "print('Train RMSE:', train_RMSE_rr)\n",
    "print('Test RMSE:', test_RMSE_rr)\n",
    "print('Training R^2:', r2_score(y_train, model_rr.predict(X_train)))\n",
    "print('Test R^2:', r2_score(y_test, model_rr.predict(X_test)))\n",
    "print('Training Accuracy:', model_rr.score(X_train, y_train))\n",
    "print('Test Accuracy:', model_rr.score(X_test, y_test))\n",
    "\n",
    "#RF Regressor metrics\n",
    "y_pred_train_rf = model_rf.predict(X_train)\n",
    "y_pred_test_rf = model_rf.predict(X_test)\n",
    "train_MAE_rf = mean_absolute_error(y_train, y_pred_train_rf)\n",
    "test_MAE_rf = mean_absolute_error(y_test, y_pred_test_rf)\n",
    "train_RMSE_rf = mean_squared_error(y_train, y_pred_train_rf, squared=False)\n",
    "test_RMSE_rf = mean_squared_error(y_test, y_pred_test_rf, squared=False)\n",
    "print('')\n",
    "print('RF REGRESSOR METRICS:')\n",
    "print('Train MAE:',train_MAE_rf)\n",
    "print('Test MAE:', test_MAE_rf)\n",
    "print('Train RMSE:', train_RMSE_rf)\n",
    "print('Test RMSE:', test_RMSE_rf)\n",
    "print('Training R^2:', r2_score(y_train, model_rf.predict(X_train)))\n",
    "print('Test R^2:', r2_score(y_test, model_rf.predict(X_test)))\n",
    "print('Training Accuracy:', model_rf.score(X_train, y_train))\n",
    "print('Test Accuracy:', model_rf.score(X_test, y_test))\n",
    "\n",
    "#XGB model metrics\n",
    "y_pred_train_xgb = model_xgb.predict(X_train)\n",
    "y_pred_test_xgb = model_xgb.predict(X_test)\n",
    "train_MAE_xgb = mean_absolute_error(y_train, y_pred_train_xgb)\n",
    "test_MAE_xgb = mean_absolute_error(y_test, y_pred_test_xgb)\n",
    "train_RMSE_xgb = mean_squared_error(y_train, y_pred_train_xgb, squared=False)\n",
    "test_RMSE_xgb = mean_squared_error(y_test, y_pred_test_xgb, squared=False)\n",
    "print('')\n",
    "print('XGBOOST METRICS:')\n",
    "print('Train MAE:',train_MAE_xgb)\n",
    "print('Test MAE:', test_MAE_xgb)\n",
    "print('Train RMSE:', train_RMSE_xgb)\n",
    "print('Test RMSE:', test_RMSE_xgb)\n",
    "print('Training R^2:', r2_score(y_train, model_xgb.predict(X_train)))\n",
    "print('Test R^2:', r2_score(y_test, model_xgb.predict(X_test)))\n",
    "print('Training Accuracy:', model_xgb.score(X_train, y_train))\n",
    "print('Test Accuracy:', model_xgb.score(X_test, y_test))\n"
   ]
  },
  {
   "cell_type": "code",
   "execution_count": 36,
   "id": "functional-prize",
   "metadata": {},
   "outputs": [
    {
     "name": "stdout",
     "output_type": "stream",
     "text": [
      "Fitting 5 folds for each of 12 candidates, totalling 60 fits\n"
     ]
    }
   ],
   "source": [
    "###TUNING (HYPERPARAM TUNING AND COMPARING GINI IMPORTANCE AND PERMUTATION IMPORTANCE)\n",
    "\n",
    "#Hyperparam tuning for ridge model\n",
    "rr_params = {\n",
    "    'simpleimputer__strategy': ['mean', 'median'],\n",
    "    'ridge__alpha': [1,5,10,15,20,25],\n",
    "}\n",
    "\n",
    "model_rr_gs = GridSearchCV(\n",
    "    model_rr,\n",
    "    param_grid=rr_params,\n",
    "    cv=5,\n",
    "    n_jobs=-1,\n",
    "    verbose=1\n",
    ")\n",
    "\n",
    "model_rr_gs.fit(X_train, y_train);"
   ]
  },
  {
   "cell_type": "code",
   "execution_count": 37,
   "id": "retained-brief",
   "metadata": {},
   "outputs": [
    {
     "name": "stdout",
     "output_type": "stream",
     "text": [
      "Fitting 5 folds for each of 110 candidates, totalling 550 fits\n"
     ]
    }
   ],
   "source": [
    "\n",
    "\n",
    "rf_params = {\n",
    "    'simpleimputer__strategy': ['mean', 'median'],\n",
    "    'randomforestregressor__n_estimators': [100,150,200,250,300],\n",
    "    'randomforestregressor__max_depth': range(5, 36, 3)\n",
    "}\n",
    "\n",
    "model_rf_gs = GridSearchCV(\n",
    "    model_rf,\n",
    "    param_grid=rf_params,\n",
    "    cv=5,\n",
    "    n_jobs=-1,\n",
    "    verbose=1\n",
    ")\n",
    "\n",
    "model_rf_gs.fit(X_train, y_train);\n"
   ]
  },
  {
   "cell_type": "code",
   "execution_count": 38,
   "id": "shared-alert",
   "metadata": {},
   "outputs": [
    {
     "name": "stdout",
     "output_type": "stream",
     "text": [
      "Fitting 5 folds for each of 160 candidates, totalling 800 fits\n",
      "[08:20:28] WARNING: C:/Users/Administrator/workspace/xgboost-win64_release_1.3.0/src/learner.cc:541: \n",
      "Parameters: { verbose } might not be used.\n",
      "\n",
      "  This may not be accurate due to some parameters are only used in language bindings but\n",
      "  passed down to XGBoost core.  Or some parameters are not used but slip through this\n",
      "  verification. Please open an issue if you find above cases.\n",
      "\n",
      "\n"
     ]
    }
   ],
   "source": [
    "xgb_params = {\n",
    "    'simpleimputer__strategy': ['mean', 'median'],\n",
    "    'xgbregressor__max_depth': range(3,15,3),\n",
    "    'xgbregressor__gamma': range(1,5,1),\n",
    "    'xgbregressor__n_estimators': range(5,30,5)\n",
    "}\n",
    "\n",
    "model_xgb_gs = GridSearchCV(\n",
    "    model_xgb,\n",
    "    param_grid=xgb_params,\n",
    "    cv=5,\n",
    "    n_jobs=-1,\n",
    "    verbose=1\n",
    ")\n",
    "\n",
    "model_xgb_gs.fit(X_train, y_train);\n"
   ]
  },
  {
   "cell_type": "code",
   "execution_count": 39,
   "id": "overhead-warrior",
   "metadata": {},
   "outputs": [
    {
     "name": "stdout",
     "output_type": "stream",
     "text": [
      "RIDGE REGRESSORv2 METRICS:\n",
      "Train MAE: 4609.767261210997\n",
      "Test MAE: 4504.085298604366\n",
      "Train RMSE: 6574.13254781096\n",
      "Test RMSE: 6247.755495366201\n",
      "Training R^2: 0.3757688494356979\n",
      "Test R^2: 0.3274416740361392\n",
      "\n",
      "RF REGRESSORv2 METRICS:\n",
      "Train MAE: 3999.4999526342135\n",
      "Test MAE: 4361.248015195212\n",
      "Train RMSE: 5695.3699634340555\n",
      "Test RMSE: 6116.085985011245\n",
      "Training R^2: 0.5314969678408051\n",
      "Test R^2: 0.35549087873353336\n",
      "\n",
      "XGBoost Regressorv2 METRICS:\n",
      "Train MAE: 4380.359000543901\n",
      "Test MAE: 4435.96404292568\n",
      "Train RMSE: 6295.663084702099\n",
      "Test RMSE: 6197.928507633819\n",
      "Training R^2: 0.4275316485371722\n",
      "Test R^2: 0.3381264471849652\n",
      "Model best score: 0.34796845213725724\n"
     ]
    }
   ],
   "source": [
    "#Ridge modelv2 metrics\n",
    "y_pred_train_rr_gs = model_rr_gs.predict(X_train)\n",
    "y_pred_test_rr_gs = model_rr_gs.predict(X_test)\n",
    "train_MAE_rr_gs = mean_absolute_error(y_train, y_pred_train_rr_gs)\n",
    "test_MAE_rr_gs = mean_absolute_error(y_test, y_pred_test_rr_gs)\n",
    "train_RMSE_rr_gs = mean_squared_error(y_train, y_pred_train_rr_gs, squared=False)\n",
    "test_RMSE_rr_gs = mean_squared_error(y_test, y_pred_test_rr_gs, squared=False)\n",
    "print('RIDGE REGRESSORv2 METRICS:')\n",
    "print('Train MAE:',train_MAE_rr_gs)\n",
    "print('Test MAE:', test_MAE_rr_gs)\n",
    "print('Train RMSE:', train_RMSE_rr_gs)\n",
    "print('Test RMSE:', test_RMSE_rr_gs)\n",
    "print('Training R^2:', r2_score(y_train, model_rr_gs.predict(X_train)))\n",
    "print('Test R^2:', r2_score(y_test, model_rr_gs.predict(X_test)))\n",
    "#RF modelv2 metrics\n",
    "y_pred_train_rf_gs = model_rf_gs.predict(X_train)\n",
    "y_pred_test_rf_gs = model_rf_gs.predict(X_test)\n",
    "train_MAE_rf_gs = mean_absolute_error(y_train, y_pred_train_rf_gs)\n",
    "test_MAE_rf_gs = mean_absolute_error(y_test, y_pred_test_rf_gs)\n",
    "train_RMSE_rf_gs = mean_squared_error(y_train, y_pred_train_rf_gs, squared=False)\n",
    "test_RMSE_rf_gs = mean_squared_error(y_test, y_pred_test_rf_gs, squared=False)\n",
    "print('')\n",
    "print('RF REGRESSORv2 METRICS:')\n",
    "print('Train MAE:',train_MAE_rf_gs)\n",
    "print('Test MAE:', test_MAE_rf_gs)\n",
    "print('Train RMSE:', train_RMSE_rf_gs)\n",
    "print('Test RMSE:', test_RMSE_rf_gs)\n",
    "print('Training R^2:', r2_score(y_train, model_rf_gs.predict(X_train)))\n",
    "print('Test R^2:', r2_score(y_test, model_rf_gs.predict(X_test)))\n",
    "\n",
    "#XGB modelv2 metrics\n",
    "y_pred_train_xgb_gs = model_xgb_gs.predict(X_train)\n",
    "y_pred_test_xgb_gs = model_xgb_gs.predict(X_test)\n",
    "train_MAE_xgb_gs = mean_absolute_error(y_train, y_pred_train_xgb_gs)\n",
    "test_MAE_xgb_gs = mean_absolute_error(y_test, y_pred_test_xgb_gs)\n",
    "train_RMSE_xgb_gs = mean_squared_error(y_train, y_pred_train_xgb_gs, squared=False)\n",
    "test_RMSE_xgb_gs = mean_squared_error(y_test, y_pred_test_xgb_gs, squared=False)\n",
    "print('')\n",
    "print('XGBoost Regressorv2 METRICS:')\n",
    "print('Train MAE:',train_MAE_xgb_gs)\n",
    "print('Test MAE:', test_MAE_xgb_gs)\n",
    "print('Train RMSE:', train_RMSE_xgb_gs)\n",
    "print('Test RMSE:', test_RMSE_xgb_gs)\n",
    "print('Training R^2:', r2_score(y_train, model_xgb_gs.predict(X_train)))\n",
    "print('Test R^2:', r2_score(y_test, model_xgb_gs.predict(X_test)))\n",
    "print('Model best score:', model_xgb_gs.best_score_)"
   ]
  },
  {
   "cell_type": "code",
   "execution_count": 40,
   "id": "premium-domestic",
   "metadata": {},
   "outputs": [
    {
     "ename": "ValueError",
     "evalue": "Length of passed values is 125, index implies 26.",
     "output_type": "error",
     "traceback": [
      "\u001b[1;31m---------------------------------------------------------------------------\u001b[0m",
      "\u001b[1;31mValueError\u001b[0m                                Traceback (most recent call last)",
      "\u001b[1;32m<ipython-input-40-3911cf9eb207>\u001b[0m in \u001b[0;36m<module>\u001b[1;34m\u001b[0m\n\u001b[0;32m      2\u001b[0m \u001b[0mimportances\u001b[0m \u001b[1;33m=\u001b[0m \u001b[0mmodel_xgb\u001b[0m\u001b[1;33m.\u001b[0m\u001b[0mnamed_steps\u001b[0m\u001b[1;33m[\u001b[0m\u001b[1;34m'xgbregressor'\u001b[0m\u001b[1;33m]\u001b[0m\u001b[1;33m.\u001b[0m\u001b[0mfeature_importances_\u001b[0m\u001b[1;33m\u001b[0m\u001b[1;33m\u001b[0m\u001b[0m\n\u001b[0;32m      3\u001b[0m \u001b[1;33m\u001b[0m\u001b[0m\n\u001b[1;32m----> 4\u001b[1;33m \u001b[0mfeat_imp\u001b[0m \u001b[1;33m=\u001b[0m \u001b[0mpd\u001b[0m\u001b[1;33m.\u001b[0m\u001b[0mSeries\u001b[0m\u001b[1;33m(\u001b[0m\u001b[0mimportances\u001b[0m\u001b[1;33m,\u001b[0m \u001b[0mindex\u001b[0m\u001b[1;33m=\u001b[0m\u001b[0mX\u001b[0m\u001b[1;33m.\u001b[0m\u001b[0mcolumns\u001b[0m\u001b[1;33m)\u001b[0m\u001b[1;33m.\u001b[0m\u001b[0msort_values\u001b[0m\u001b[1;33m(\u001b[0m\u001b[1;33m)\u001b[0m\u001b[1;33m\u001b[0m\u001b[1;33m\u001b[0m\u001b[0m\n\u001b[0m\u001b[0;32m      5\u001b[0m \u001b[0mfeat_imp\u001b[0m\u001b[1;33m.\u001b[0m\u001b[0mtail\u001b[0m\u001b[1;33m(\u001b[0m\u001b[1;36m10\u001b[0m\u001b[1;33m)\u001b[0m\u001b[1;33m.\u001b[0m\u001b[0mplot\u001b[0m\u001b[1;33m(\u001b[0m\u001b[0mkind\u001b[0m\u001b[1;33m=\u001b[0m\u001b[1;34m'barh'\u001b[0m\u001b[1;33m)\u001b[0m\u001b[1;33m\u001b[0m\u001b[1;33m\u001b[0m\u001b[0m\n\u001b[0;32m      6\u001b[0m \u001b[0mplt\u001b[0m\u001b[1;33m.\u001b[0m\u001b[0mxlabel\u001b[0m\u001b[1;33m(\u001b[0m\u001b[1;34m'Gini importance'\u001b[0m\u001b[1;33m)\u001b[0m\u001b[1;33m\u001b[0m\u001b[1;33m\u001b[0m\u001b[0m\n",
      "\u001b[1;32mc:\\users\\marvin\\.virtualenvs\\unit-2-proj-mmzadrit\\lib\\site-packages\\pandas\\core\\series.py\u001b[0m in \u001b[0;36m__init__\u001b[1;34m(self, data, index, dtype, name, copy, fastpath)\u001b[0m\n\u001b[0;32m    348\u001b[0m                 \u001b[1;32mtry\u001b[0m\u001b[1;33m:\u001b[0m\u001b[1;33m\u001b[0m\u001b[1;33m\u001b[0m\u001b[0m\n\u001b[0;32m    349\u001b[0m                     \u001b[1;32mif\u001b[0m \u001b[0mlen\u001b[0m\u001b[1;33m(\u001b[0m\u001b[0mindex\u001b[0m\u001b[1;33m)\u001b[0m \u001b[1;33m!=\u001b[0m \u001b[0mlen\u001b[0m\u001b[1;33m(\u001b[0m\u001b[0mdata\u001b[0m\u001b[1;33m)\u001b[0m\u001b[1;33m:\u001b[0m\u001b[1;33m\u001b[0m\u001b[1;33m\u001b[0m\u001b[0m\n\u001b[1;32m--> 350\u001b[1;33m                         raise ValueError(\n\u001b[0m\u001b[0;32m    351\u001b[0m                             \u001b[1;34mf\"Length of passed values is {len(data)}, \"\u001b[0m\u001b[1;33m\u001b[0m\u001b[1;33m\u001b[0m\u001b[0m\n\u001b[0;32m    352\u001b[0m                             \u001b[1;34mf\"index implies {len(index)}.\"\u001b[0m\u001b[1;33m\u001b[0m\u001b[1;33m\u001b[0m\u001b[0m\n",
      "\u001b[1;31mValueError\u001b[0m: Length of passed values is 125, index implies 26."
     ]
    }
   ],
   "source": [
    "#Gini importance\n",
    "importances = model_xgb.named_steps['xgbregressor'].feature_importances_\n",
    "\n",
    "feat_imp = pd.Series(importances, index=X.columns).sort_values()\n",
    "feat_imp.tail(10).plot(kind='barh')\n",
    "plt.xlabel('Gini importance')\n",
    "plt.ylabel('Feature')\n",
    "plt.title('Feature importance for model_xgb');"
   ]
  },
  {
   "cell_type": "code",
   "execution_count": 41,
   "id": "minute-excuse",
   "metadata": {},
   "outputs": [
    {
     "data": {
      "image/png": "[encoded data removed]",
      "text/plain": [
       "<Figure size 432x288 with 1 Axes>"
      ]
     },
     "metadata": {
      "needs_background": "light"
     },
     "output_type": "display_data"
    }
   ],
   "source": [
    "#Permutation importance\n",
    "perm_imp = permutation_importance(model_xgb_gs,\n",
    "                                   X_test,\n",
    "                                   y_test,\n",
    "                                   n_jobs=-1,\n",
    "                                   random_state=42)\n",
    "\n",
    "data_ = {'importances_mean' : perm_imp['importances_mean'],\n",
    "        'importances_std' : perm_imp['importances_std']}\n",
    "\n",
    "\n",
    "permdf = pd.DataFrame(data_, index=X_test.columns)\n",
    "permdf.sort_values(by='importances_mean', inplace=True)\n",
    "\n",
    "permdf['importances_mean'].tail(10).plot(kind='barh')\n",
    "plt.xlabel('Importance (drop in accuracy)')\n",
    "plt.ylabel('Feature')\n",
    "plt.title('Permutation importance for model_xgb');"
   ]
  },
  {
   "cell_type": "code",
   "execution_count": 42,
   "id": "freelance-creek",
   "metadata": {},
   "outputs": [
    {
     "data": {
      "image/png": "[encoded data removed]",
      "text/plain": [
       "<Figure size 1080x684 with 2 Axes>"
      ]
     },
     "metadata": {
      "needs_background": "light"
     },
     "output_type": "display_data"
    }
   ],
   "source": [
    "###COMMUNICATING RESULTS\n",
    "\n",
    "feature = 'accommodates'\n",
    "\n",
    "#Plotting partial dependency for 'accommodates' feature\n",
    "isolate = pdp_isolate(\n",
    "    model=model_xgb,\n",
    "    dataset=X_test,\n",
    "    model_features=X_test.columns,\n",
    "    feature=feature\n",
    ")\n",
    "\n",
    "pdp_plot(isolate, feature_name=feature);"
   ]
  },
  {
   "cell_type": "code",
   "execution_count": 43,
   "id": "advance-transparency",
   "metadata": {},
   "outputs": [
    {
     "data": {
      "image/png": "[encoded data removed]",
      "text/plain": [
       "<Figure size 540x684 with 3 Axes>"
      ]
     },
     "metadata": {
      "needs_background": "light"
     },
     "output_type": "display_data"
    }
   ],
   "source": [
    "#Plotting partial dependency for the first top 2 features:\n",
    "#('bedroom' and 'accomodates')\n",
    "\n",
    "top2feat = ['accommodates', 'bedrooms']\n",
    "\n",
    "interact = pdp_interact(\n",
    "    model=model_xgb,\n",
    "    dataset=X_test,\n",
    "    model_features=X_test.columns,\n",
    "    features=top2feat\n",
    ")\n",
    "\n",
    "pdp_interact_plot(interact, plot_type='grid',feature_names=top2feat);"
   ]
  },
  {
   "cell_type": "code",
   "execution_count": null,
   "id": "genuine-brave",
   "metadata": {},
   "outputs": [],
   "source": [
    "location = ['longitude', 'latitude']\n",
    "\n",
    "\n",
    "interact = pdp_interact(\n",
    "    model=model_xgb,\n",
    "    dataset=X_test,\n",
    "    model_features=X_test.columns,\n",
    "    features = location\n",
    ")\n",
    "\n",
    "pdp_interact_plot(interact, plot_type='grid',feature_names=location);"
   ]
  },
  {
   "cell_type": "code",
   "execution_count": null,
   "id": "completed-management",
   "metadata": {},
   "outputs": [],
   "source": [
    "df.corr()"
   ]
  },
  {
   "cell_type": "code",
   "execution_count": 55,
   "id": "sapphire-connecticut",
   "metadata": {},
   "outputs": [
    {
     "name": "stdout",
     "output_type": "stream",
     "text": [
      "Requirement already satisfied: joblib in c:\\users\\marvin\\.virtualenvs\\unit-2-proj-mmzadrit\\lib\\site-packages (1.0.1)\n"
     ]
    }
   ],
   "source": [
    "!pip install joblib"
   ]
  },
  {
   "cell_type": "code",
   "execution_count": 57,
   "id": "attended-tobago",
   "metadata": {},
   "outputs": [
    {
     "data": {
      "text/plain": [
       "['pipeline.joblib']"
      ]
     },
     "execution_count": 57,
     "metadata": {},
     "output_type": "execute_result"
    }
   ],
   "source": [
    "from joblib import dump\n",
    "\n",
    "dump(model_rf_gs, \"pipeline.joblib\", compress=True)"
   ]
  },
  {
   "cell_type": "code",
   "execution_count": null,
   "id": "opening-relation",
   "metadata": {},
   "outputs": [],
   "source": []
  }
 ],
 "metadata": {
  "kernelspec": {
   "display_name": "Python 3",
   "language": "python",
   "name": "python3"
  },
  "language_info": {
   "codemirror_mode": {
    "name": "ipython",
    "version": 3
   },
   "file_extension": ".py",
   "mimetype": "text/x-python",
   "name": "python",
   "nbconvert_exporter": "python",
   "pygments_lexer": "ipython3",
   "version": "3.8.10"
  }
 },
 "nbformat": 4,
 "nbformat_minor": 5
}
